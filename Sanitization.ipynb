{
 "cells": [
  {
   "cell_type": "code",
   "execution_count": 1,
   "metadata": {},
   "outputs": [],
   "source": [
    "TOKEN = 'RPKiZSMOCxGZbADtdNhOUyptiuqBvRpX'"
   ]
  },
  {
   "cell_type": "code",
   "execution_count": 2,
   "metadata": {},
   "outputs": [],
   "source": [
    "base_url = 'https://www.ncdc.noaa.gov/cdo-web/api/v2/'"
   ]
  },
  {
   "cell_type": "code",
   "execution_count": 3,
   "metadata": {},
   "outputs": [],
   "source": [
    "import requests"
   ]
  },
  {
   "cell_type": "code",
   "execution_count": 9,
   "metadata": {},
   "outputs": [],
   "source": [
    "response = requests.get(base_url+'datasets', headers={\"token\":TOKEN})\n",
    "rj = response.json()"
   ]
  },
  {
   "cell_type": "code",
   "execution_count": 15,
   "metadata": {},
   "outputs": [],
   "source": [
    "db_ids = { obj['name']: obj['id'] for obj in rj['results'] }"
   ]
  },
  {
   "cell_type": "code",
   "execution_count": 16,
   "metadata": {},
   "outputs": [
    {
     "data": {
      "text/plain": [
       "{'Daily Summaries': 'GHCND',\n",
       " 'Global Summary of the Month': 'GSOM',\n",
       " 'Global Summary of the Year': 'GSOY',\n",
       " 'Weather Radar (Level II)': 'NEXRAD2',\n",
       " 'Weather Radar (Level III)': 'NEXRAD3',\n",
       " 'Normals Annual/Seasonal': 'NORMAL_ANN',\n",
       " 'Normals Daily': 'NORMAL_DLY',\n",
       " 'Normals Hourly': 'NORMAL_HLY',\n",
       " 'Normals Monthly': 'NORMAL_MLY',\n",
       " 'Precipitation 15 Minute': 'PRECIP_15',\n",
       " 'Precipitation Hourly': 'PRECIP_HLY'}"
      ]
     },
     "execution_count": 16,
     "metadata": {},
     "output_type": "execute_result"
    }
   ],
   "source": [
    "db_ids"
   ]
  },
  {
   "cell_type": "code",
   "execution_count": 41,
   "metadata": {},
   "outputs": [
    {
     "data": {
      "text/plain": [
       "<Response [200]>"
      ]
     },
     "execution_count": 41,
     "metadata": {},
     "output_type": "execute_result"
    }
   ],
   "source": [
    "response1 = requests.get(base_url+'locations', headers={\"token\":TOKEN})\n",
    "response1"
   ]
  },
  {
   "cell_type": "code",
   "execution_count": 42,
   "metadata": {},
   "outputs": [
    {
     "data": {
      "text/plain": [
       "{'metadata': {'resultset': {'offset': 1, 'count': 38859, 'limit': 25}},\n",
       " 'results': [{'mindate': '1983-01-01',\n",
       "   'maxdate': '2019-02-18',\n",
       "   'name': 'Abu Dhabi, AE',\n",
       "   'datacoverage': 1,\n",
       "   'id': 'CITY:AE000001'},\n",
       "  {'mindate': '1944-03-01',\n",
       "   'maxdate': '2019-02-18',\n",
       "   'name': 'Ajman, AE',\n",
       "   'datacoverage': 0.9991,\n",
       "   'id': 'CITY:AE000002'},\n",
       "  {'mindate': '1944-03-01',\n",
       "   'maxdate': '2019-02-18',\n",
       "   'name': 'Dubai, AE',\n",
       "   'datacoverage': 0.9991,\n",
       "   'id': 'CITY:AE000003'},\n",
       "  {'mindate': '1944-03-01',\n",
       "   'maxdate': '2019-02-18',\n",
       "   'name': 'Sharjah, AE',\n",
       "   'datacoverage': 0.9991,\n",
       "   'id': 'CITY:AE000006'},\n",
       "  {'mindate': '1966-03-02',\n",
       "   'maxdate': '2019-02-18',\n",
       "   'name': 'Kabul, AF',\n",
       "   'datacoverage': 0.9969,\n",
       "   'id': 'CITY:AF000007'},\n",
       "  {'mindate': '1973-01-02',\n",
       "   'maxdate': '2019-02-18',\n",
       "   'name': 'Kandahar, AF',\n",
       "   'datacoverage': 0.9819,\n",
       "   'id': 'CITY:AF000008'},\n",
       "  {'mindate': '1877-04-01',\n",
       "   'maxdate': '2019-02-18',\n",
       "   'name': 'Algiers, AG',\n",
       "   'datacoverage': 1,\n",
       "   'id': 'CITY:AG000001'},\n",
       "  {'mindate': '1909-11-01',\n",
       "   'maxdate': '2019-02-18',\n",
       "   'name': 'Annaba, AG',\n",
       "   'datacoverage': 1,\n",
       "   'id': 'CITY:AG000002'},\n",
       "  {'mindate': '1973-04-01',\n",
       "   'maxdate': '2019-02-18',\n",
       "   'name': 'Batna, AG',\n",
       "   'datacoverage': 0.9993,\n",
       "   'id': 'CITY:AG000003'},\n",
       "  {'mindate': '1957-01-01',\n",
       "   'maxdate': '2019-02-18',\n",
       "   'name': 'Bechar, AG',\n",
       "   'datacoverage': 1,\n",
       "   'id': 'CITY:AG000004'},\n",
       "  {'mindate': '1909-11-01',\n",
       "   'maxdate': '2019-02-18',\n",
       "   'name': 'Bejaia, AG',\n",
       "   'datacoverage': 1,\n",
       "   'id': 'CITY:AG000005'},\n",
       "  {'mindate': '1880-05-01',\n",
       "   'maxdate': '2019-02-18',\n",
       "   'name': 'Constantine, AG',\n",
       "   'datacoverage': 1,\n",
       "   'id': 'CITY:AG000006'},\n",
       "  {'mindate': '1995-10-01',\n",
       "   'maxdate': '2019-02-18',\n",
       "   'name': 'Guelma, AG',\n",
       "   'datacoverage': 1,\n",
       "   'id': 'CITY:AG000007'},\n",
       "  {'mindate': '1888-01-01',\n",
       "   'maxdate': '2019-02-18',\n",
       "   'name': 'Laghouat, AG',\n",
       "   'datacoverage': 1,\n",
       "   'id': 'CITY:AG000008'},\n",
       "  {'mindate': '1995-10-01',\n",
       "   'maxdate': '2019-02-18',\n",
       "   'name': 'Medea, AG',\n",
       "   'datacoverage': 0.9993,\n",
       "   'id': 'CITY:AG000009'},\n",
       "  {'mindate': '1976-04-01',\n",
       "   'maxdate': '2019-02-18',\n",
       "   'name': 'Mostaganem, AG',\n",
       "   'datacoverage': 0.9995,\n",
       "   'id': 'CITY:AG000010'},\n",
       "  {'mindate': '1957-01-01',\n",
       "   'maxdate': '2019-02-18',\n",
       "   'name': 'Oran, AG',\n",
       "   'datacoverage': 1,\n",
       "   'id': 'CITY:AG000011'},\n",
       "  {'mindate': '1985-02-01',\n",
       "   'maxdate': '2019-02-18',\n",
       "   'name': 'Oum el Bouaghi, AG',\n",
       "   'datacoverage': 1,\n",
       "   'id': 'CITY:AG000012'},\n",
       "  {'mindate': '1981-01-01',\n",
       "   'maxdate': '2019-02-18',\n",
       "   'name': 'Saida, AG',\n",
       "   'datacoverage': 0.9973,\n",
       "   'id': 'CITY:AG000013'},\n",
       "  {'mindate': '1995-10-01',\n",
       "   'maxdate': '2019-02-18',\n",
       "   'name': 'Sidi-Bel-Abbes, AG',\n",
       "   'datacoverage': 1,\n",
       "   'id': 'CITY:AG000014'},\n",
       "  {'mindate': '1957-12-31',\n",
       "   'maxdate': '2019-02-18',\n",
       "   'name': 'Skikda, AG',\n",
       "   'datacoverage': 1,\n",
       "   'id': 'CITY:AG000015'},\n",
       "  {'mindate': '1940-01-01',\n",
       "   'maxdate': '2014-02-01',\n",
       "   'name': 'Tamanrasset, AG',\n",
       "   'datacoverage': 0.9973,\n",
       "   'id': 'CITY:AG000016'},\n",
       "  {'mindate': '1981-01-01',\n",
       "   'maxdate': '2019-02-18',\n",
       "   'name': 'Tlemcen, AG',\n",
       "   'datacoverage': 1,\n",
       "   'id': 'CITY:AG000017'},\n",
       "  {'mindate': '1881-07-01',\n",
       "   'maxdate': '1992-01-31',\n",
       "   'name': 'Baku, AJ',\n",
       "   'datacoverage': 0.991,\n",
       "   'id': 'CITY:AJ000001'},\n",
       "  {'mindate': '1925-09-01',\n",
       "   'maxdate': '1991-12-31',\n",
       "   'name': 'Naxcivian, AJ',\n",
       "   'datacoverage': 1,\n",
       "   'id': 'CITY:AJ000002'}]}"
      ]
     },
     "execution_count": 42,
     "metadata": {},
     "output_type": "execute_result"
    }
   ],
   "source": [
    "response1.json()"
   ]
  },
  {
   "cell_type": "code",
   "execution_count": null,
   "metadata": {},
   "outputs": [],
   "source": []
  },
  {
   "cell_type": "code",
   "execution_count": 30,
   "metadata": {},
   "outputs": [
    {
     "data": {
      "text/plain": [
       "<Response [400]>"
      ]
     },
     "execution_count": 30,
     "metadata": {},
     "output_type": "execute_result"
    }
   ],
   "source": [
    "response1"
   ]
  },
  {
   "cell_type": "code",
   "execution_count": null,
   "metadata": {},
   "outputs": [],
   "source": []
  }
 ],
 "metadata": {
  "kernelspec": {
   "display_name": "Python 3",
   "language": "python",
   "name": "python3"
  },
  "language_info": {
   "codemirror_mode": {
    "name": "ipython",
    "version": 3
   },
   "file_extension": ".py",
   "mimetype": "text/x-python",
   "name": "python",
   "nbconvert_exporter": "python",
   "pygments_lexer": "ipython3",
   "version": "3.7.1"
  }
 },
 "nbformat": 4,
 "nbformat_minor": 2
}
